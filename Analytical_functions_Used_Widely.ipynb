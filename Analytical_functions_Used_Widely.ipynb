{
  "nbformat": 4,
  "nbformat_minor": 0,
  "metadata": {
    "colab": {
      "name": "Analytical functions Used Widely.ipynb",
      "provenance": [],
      "authorship_tag": "ABX9TyPx2BEflbndzeqIzweo7vlc",
      "include_colab_link": true
    },
    "kernelspec": {
      "name": "python3",
      "display_name": "Python 3"
    },
    "language_info": {
      "name": "python"
    }
  },
  "cells": [
    {
      "cell_type": "markdown",
      "metadata": {
        "id": "view-in-github",
        "colab_type": "text"
      },
      "source": [
        "<a href=\"https://colab.research.google.com/github/debanshu7/Widely-Used-Distribution-Functions/blob/main/Analytical_functions_Used_Widely.ipynb\" target=\"_parent\"><img src=\"https://colab.research.google.com/assets/colab-badge.svg\" alt=\"Open In Colab\"/></a>"
      ]
    },
    {
      "cell_type": "code",
      "execution_count": null,
      "metadata": {
        "id": "2MyHJ23xtwhA"
      },
      "outputs": [],
      "source": [
        ""
      ]
    }
  ]
}